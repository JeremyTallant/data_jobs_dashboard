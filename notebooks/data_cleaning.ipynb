{
 "cells": [
  {
   "cell_type": "code",
   "execution_count": null,
   "metadata": {},
   "outputs": [],
   "source": [
    "# Dependencies\n",
    "from config import API_KEY\n",
    "import requests\n",
    "import pandas as pd\n",
    "import matplotlib as plt\n",
    "import numpy as np \n",
    "import json\n",
    "import sqlalchemy\n",
    "from sqlalchemy.ext.automap import automap_base\n",
    "from sqlalchemy.orm import Session\n",
    "from sqlalchemy import create_engine, func\n",
    "import warnings\n",
    "warnings.filterwarnings('ignore')"
   ]
  },
  {
   "cell_type": "code",
   "execution_count": null,
   "metadata": {},
   "outputs": [],
   "source": [
    "# Save url as variable\n",
    "url = \"https://us-states.p.rapidapi.com/all\"\n",
    "\n",
    "# Set headers\n",
    "headers = {\n",
    "\t\"X-RapidAPI-Key\": API_KEY,\n",
    "\t\"X-RapidAPI-Host\": \"us-states.p.rapidapi.com\"\n",
    "}\n",
    "\n",
    "# Make a GET request and save in variable\n",
    "response = requests.request(\"GET\", url, headers=headers)\n",
    "data = response.json()"
   ]
  },
  {
   "cell_type": "code",
   "execution_count": null,
   "metadata": {},
   "outputs": [],
   "source": [
    "# Write the data to a json file\n",
    "with open ('../data/states_data.json', 'w') as outfile:\n",
    "    json.dump(data, outfile, indent=4)"
   ]
  },
  {
   "cell_type": "code",
   "execution_count": null,
   "metadata": {},
   "outputs": [],
   "source": [
    "# Create a pandas data frame\n",
    "df = pd.json_normalize(data)\n",
    "df"
   ]
  },
  {
   "cell_type": "code",
   "execution_count": null,
   "metadata": {},
   "outputs": [],
   "source": [
    "# Drop all territories and reset index\n",
    "df = df.drop(index=[2,11,36,41,47]).reset_index(drop=True)\n",
    "df"
   ]
  },
  {
   "cell_type": "code",
   "execution_count": null,
   "metadata": {},
   "outputs": [],
   "source": [
    "# Drop any column that have null values\n",
    "df = df.dropna(axis=1)\n",
    "df"
   ]
  },
  {
   "cell_type": "code",
   "execution_count": null,
   "metadata": {},
   "outputs": [],
   "source": [
    "# Check the counts\n",
    "df.count()"
   ]
  },
  {
   "cell_type": "code",
   "execution_count": null,
   "metadata": {},
   "outputs": [],
   "source": [
    "# Drop all unnecessary columns\n",
    "states_df = df.drop(columns=['ap_abbreviation','area.land_km','area.water_rank','area.total_rank','area.land_mi','area.water_km','area.total_km','area.land_percent','area.water_mi','area.water_percent','elevation.min_ft','elevation.min_m','elevation.mean_ft','elevation.max_rank','elevation.max_ft','elevation.span_ft','elevation.mean_rank','elevation.span_m','elevation.mean_m','elevation.max_m','area.total_mi','population.density_km','koppen_climate','subdivisions','status','standard_federal_region','gpo_abbreviation','census_bureau.region','census_bureau.division'])\n",
    "states_df"
   ]
  },
  {
   "cell_type": "code",
   "execution_count": null,
   "metadata": {},
   "outputs": [],
   "source": [
    "# Format the column names\n",
    "states_df.columns = states_df.columns.str.replace(\"_\", \" \").str.replace(\".\", \" \").str.capitalize()\n",
    "\n",
    "# Print the modified DataFrame\n",
    "states_df"
   ]
  },
  {
   "cell_type": "code",
   "execution_count": null,
   "metadata": {},
   "outputs": [],
   "source": [
    "# Convert the data frame to HTML file\n",
    "states_df.to_html('../templates/states.html', index=False)"
   ]
  },
  {
   "cell_type": "code",
   "execution_count": null,
   "metadata": {},
   "outputs": [],
   "source": [
    "# Save url as variable\n",
    "url1 = \"https://jsearch.p.rapidapi.com/search\"\n",
    "\n",
    "# Set querystring\n",
    "querystring = {\"query\":\"Python developer in USA\",\"num_pages\":\"20\"}\n",
    "\n",
    "# Set headers\n",
    "headers = {\n",
    "\t\"X-RapidAPI-Key\": API_KEY,\n",
    "\t\"X-RapidAPI-Host\": \"jsearch.p.rapidapi.com\"\n",
    "}\n",
    "\n",
    "# Make a GET request and save in variable\n",
    "response = requests.request(\"GET\", url1, headers=headers, params=querystring)\n",
    "python_developer = response.json()\n",
    "\n",
    "# Write the data to a json file\n",
    "with open('../data/python_developer.json', 'w') as outfile:\n",
    "    json.dump(python_developer, outfile, indent=4)\n"
   ]
  },
  {
   "cell_type": "code",
   "execution_count": null,
   "metadata": {},
   "outputs": [],
   "source": [
    "# Save url as variable\n",
    "url1 = \"https://jsearch.p.rapidapi.com/search\"\n",
    "\n",
    "# Set querysting\n",
    "querystring = {\"query\":\"Data analyst in USA\",\"num_pages\":\"20\"}\n",
    "\n",
    "# Set headers\n",
    "headers = {\n",
    "\t\"X-RapidAPI-Key\": API_KEY,\n",
    "\t\"X-RapidAPI-Host\": \"jsearch.p.rapidapi.com\"\n",
    "}\n",
    "\n",
    "# Make a GET request and save in variable\n",
    "response = requests.request(\"GET\", url1, headers=headers, params=querystring)\n",
    "data_analyst = response.json()\n",
    "\n",
    "# # Write the data to a json file\n",
    "with open('../data/data_analyst.json', 'w') as outfile:\n",
    "    json.dump(data_analyst, outfile, indent=4)"
   ]
  },
  {
   "cell_type": "code",
   "execution_count": null,
   "metadata": {},
   "outputs": [],
   "source": [
    "# Save url as variable\n",
    "url1 = \"https://jsearch.p.rapidapi.com/search\"\n",
    "\n",
    "# Set querysting\n",
    "querystring = {\"query\":\"Data scientist in USA\",\"num_pages\":\"20\"}\n",
    "\n",
    "# Set headers\n",
    "headers = {\n",
    "\t\"X-RapidAPI-Key\": API_KEY,\n",
    "\t\"X-RapidAPI-Host\": \"jsearch.p.rapidapi.com\"\n",
    "}\n",
    "\n",
    "# Make a GET request and save in variable\n",
    "response = requests.request(\"GET\", url1, headers=headers, params=querystring)\n",
    "data_scientist = response.json()\n",
    "\n",
    "# # Write the data to a json file\n",
    "with open('../data/data_scientist.json', 'w') as outfile:\n",
    "    json.dump(data_scientist, outfile, indent=4)"
   ]
  },
  {
   "cell_type": "code",
   "execution_count": null,
   "metadata": {},
   "outputs": [],
   "source": [
    "# Save url as variable\n",
    "url1 = \"https://jsearch.p.rapidapi.com/search\"\n",
    "\n",
    "# Set querysting\n",
    "querystring = {\"query\":\"Full Stack Developer in USA\",\"num_pages\":\"20\"}\n",
    "\n",
    "# Set headers\n",
    "headers = {\n",
    "\t\"X-RapidAPI-Key\": API_KEY,\n",
    "\t\"X-RapidAPI-Host\": \"jsearch.p.rapidapi.com\"\n",
    "}\n",
    "\n",
    "# Make a GET request and save in variable\n",
    "response = requests.request(\"GET\", url1, headers=headers, params=querystring)\n",
    "full_stack = response.json()\n",
    "\n",
    "# # Write the data to a json file\n",
    "with open('../data/full_stack.json', 'w') as outfile:\n",
    "    json.dump(full_stack, outfile, indent=4)"
   ]
  },
  {
   "cell_type": "code",
   "execution_count": null,
   "metadata": {},
   "outputs": [],
   "source": [
    "# Select certain columns to be used and turn json file into a Pandas dataframe \n",
    "columns = [\"employer_name\",\"job_title\",\"job_apply_link\",\"job_description\",\"job_is_remote\",\"job_city\",\"job_state\",\"job_country\",\"job_latitude\",\"job_longitude\"]\n",
    "python_df = pd.json_normalize(python_developer, 'data')\n",
    "new_df = python_df.loc[:, columns]\n",
    "new_df"
   ]
  },
  {
   "cell_type": "code",
   "execution_count": null,
   "metadata": {},
   "outputs": [],
   "source": [
    "# Select certain columns to be used and turn json file into a Pandas dataframe \n",
    "analyst_df = pd.json_normalize(data_analyst, 'data')\n",
    "new_df1 = analyst_df.loc[:, columns]\n",
    "new_df1"
   ]
  },
  {
   "cell_type": "code",
   "execution_count": null,
   "metadata": {},
   "outputs": [],
   "source": [
    "# Select certain columns to be used and turn json file into a Pandas dataframe \n",
    "scientist_df = pd.json_normalize(data_scientist, 'data')\n",
    "new_df2 = scientist_df.loc[:, columns]\n",
    "new_df2"
   ]
  },
  {
   "cell_type": "code",
   "execution_count": null,
   "metadata": {},
   "outputs": [],
   "source": [
    "# Select certain columns to be used and turn json file into a Pandas dataframe \n",
    "full_stack_df = pd.json_normalize(full_stack, 'data')\n",
    "new_df3 = full_stack_df.loc[:, columns]\n",
    "new_df3"
   ]
  },
  {
   "cell_type": "code",
   "execution_count": null,
   "metadata": {},
   "outputs": [],
   "source": [
    "# Add the four data frames together and format column names\n",
    "result_df = pd.concat([new_df, new_df1, new_df2, new_df3], axis=0)\n",
    "result_df.columns = result_df.columns.str.replace(\"_\", \" \").str.capitalize()\n",
    "result_df"
   ]
  },
  {
   "cell_type": "code",
   "execution_count": null,
   "metadata": {},
   "outputs": [],
   "source": [
    "# Replace any nulls with None and format the rows\n",
    "result_df = result_df.replace({np.nan: None})\n",
    "result_df = result_df.replace({'\\n': ' '}, regex=True)\n",
    "result_df"
   ]
  },
  {
   "cell_type": "code",
   "execution_count": null,
   "metadata": {},
   "outputs": [],
   "source": [
    "# Convert the data frame to HTML file\n",
    "result_df.to_html('../templates/jobs.html',index=False)"
   ]
  },
  {
   "cell_type": "code",
   "execution_count": null,
   "metadata": {},
   "outputs": [],
   "source": [
    "# Save url as variable\n",
    "url = \"https://jsearch.p.rapidapi.com/estimated-salary\"\n",
    "\n",
    "# Set querystring\n",
    "querystring = {\"job_title\":\"Python Developer\",\"location\":\"Texas, USA\",\"radius\":\"200\"}\n",
    "\n",
    "# Set headers\n",
    "headers = {\n",
    "\t\"X-RapidAPI-Key\": API_KEY,\n",
    "\t\"X-RapidAPI-Host\": \"jsearch.p.rapidapi.com\"\n",
    "}\n",
    "\n",
    "# Make a GET request and save in variable\n",
    "response = requests.request(\"GET\", url, headers=headers, params=querystring)\n",
    "python_developer_salary = response.json()\n",
    "\n",
    "# Write the data to a json file\n",
    "with open('../data/python_developer_salary.json', 'w') as outfile:\n",
    "    json.dump(python_developer_salary, outfile, indent=4)\n",
    "\n",
    "# Convert the json into a dataframe\n",
    "columns = [\"job_title\", \"min_salary\", \"max_salary\", \"median_salary\"]\n",
    "df5 = pd.json_normalize(python_developer_salary, 'data')\n",
    "python_developer_salary_df = df5.loc[:, columns]\n",
    "python_developer_salary_df"
   ]
  },
  {
   "cell_type": "code",
   "execution_count": null,
   "metadata": {},
   "outputs": [],
   "source": [
    "# Save url as variable\n",
    "url = \"https://jsearch.p.rapidapi.com/estimated-salary\"\n",
    "\n",
    "# Set querystring\n",
    "querystring = {\"job_title\":\"Data Analyst\",\"location\":\"Texas, USA\",\"radius\":\"200\"}\n",
    "\n",
    "# Set headers\n",
    "headers = {\n",
    "\t\"X-RapidAPI-Key\": API_KEY,\n",
    "\t\"X-RapidAPI-Host\": \"jsearch.p.rapidapi.com\"\n",
    "}\n",
    "\n",
    "# Make a GET request and save in variable\n",
    "response = requests.request(\"GET\", url, headers=headers, params=querystring)\n",
    "data_analysts_salary = response.json()\n",
    "\n",
    "# Write the data to a json file\n",
    "with open('../data/data_analysts_salary.json', 'w') as outfile:\n",
    "    json.dump(data_analysts_salary, outfile, indent=4)\n",
    "\n",
    "# Convert the json into a dataframe\n",
    "columns = [\"job_title\", \"min_salary\", \"max_salary\", \"median_salary\"]\n",
    "df6 = pd.json_normalize(data_analysts_salary, 'data')\n",
    "data_analysts_salary_df = df6.loc[:, columns]\n",
    "data_analysts_salary_df"
   ]
  },
  {
   "cell_type": "code",
   "execution_count": null,
   "metadata": {},
   "outputs": [],
   "source": [
    "# Save url as variable\n",
    "url = \"https://jsearch.p.rapidapi.com/estimated-salary\"\n",
    "\n",
    "# Set querystring\n",
    "querystring = {\"job_title\":\"Data Scientists\",\"location\":\"Texas, USA\",\"radius\":\"200\"}\n",
    "\n",
    "# Set headers\n",
    "headers = {\n",
    "\t\"X-RapidAPI-Key\": API_KEY,\n",
    "\t\"X-RapidAPI-Host\": \"jsearch.p.rapidapi.com\"\n",
    "}\n",
    "\n",
    "# Make a GET request and save in variable\n",
    "response = requests.request(\"GET\", url, headers=headers, params=querystring)\n",
    "data_scientists_salary = response.json()\n",
    "\n",
    "# Write the data to a json file\n",
    "with open('../data/data_scientists_salary.json', 'w') as outfile:\n",
    "    json.dump(data_scientists_salary, outfile, indent=4)\n",
    "\n",
    "# Convert the json into a dataframe\n",
    "columns = [\"job_title\", \"min_salary\", \"max_salary\", \"median_salary\"]\n",
    "df7 = pd.json_normalize(data_scientists_salary, 'data')\n",
    "data_scientists_salary_df = df7.loc[:, columns]\n",
    "data_scientists_salary_df"
   ]
  },
  {
   "cell_type": "code",
   "execution_count": null,
   "metadata": {},
   "outputs": [],
   "source": [
    "# Save url as variable\n",
    "url = \"https://jsearch.p.rapidapi.com/estimated-salary\"\n",
    "\n",
    "# Set querystring\n",
    "querystring = {\"job_title\":\"Full Stack Developer\",\"location\":\"Texas, USA\",\"radius\":\"200\"}\n",
    "\n",
    "# Set headers\n",
    "headers = {\n",
    "\t\"X-RapidAPI-Key\": API_KEY,\n",
    "\t\"X-RapidAPI-Host\": \"jsearch.p.rapidapi.com\"\n",
    "}\n",
    "\n",
    "# Make a GET request and save in variable\n",
    "response = requests.request(\"GET\", url, headers=headers, params=querystring)\n",
    "full_stack_salary = response.json()\n",
    "\n",
    "# Write the data to a json file\n",
    "with open('../data/full_stack_salary.json', 'w') as outfile:\n",
    "    json.dump(full_stack_salary, outfile, indent=4)\n",
    "\n",
    "# Convert the json into a dataframe\n",
    "columns = [\"job_title\", \"min_salary\", \"max_salary\", \"median_salary\"]\n",
    "df8 = pd.json_normalize(full_stack_salary, 'data')\n",
    "full_stack_salary_df = df8.loc[:, columns]\n",
    "full_stack_salary_df"
   ]
  },
  {
   "cell_type": "code",
   "execution_count": null,
   "metadata": {},
   "outputs": [],
   "source": [
    "# Find the average salary for each position using the median_salary\n",
    "average_data_analyst_salary = data_analysts_salary_df['median_salary'].mean()\n",
    "average_data_scientist_salary = data_scientists_salary_df['median_salary'].mean()\n",
    "average_full_stack_developer_salary = full_stack_salary_df['median_salary'].mean()\n",
    "average_python_developer_salary = python_developer_salary_df['median_salary'].mean()"
   ]
  },
  {
   "cell_type": "code",
   "execution_count": null,
   "metadata": {},
   "outputs": [],
   "source": [
    "# Make a dictionary and then covert it into a Pandas dataframe \n",
    "averages_dict = {'Job Role': ['Data Analyst', 'Data Scientist', 'Full Stack Developer', 'Python Developer'], \n",
    "                 'Median Salary': [average_data_analyst_salary, average_data_scientist_salary, \n",
    "                                   average_full_stack_developer_salary, average_python_developer_salary]}\n",
    "\n",
    "averages_df = pd.DataFrame.from_dict(averages_dict)\n",
    "averages_df['Median Salary'] = averages_df['Median Salary'].astype(int)\n",
    "averages_df = averages_df.sort_values(by= 'Median Salary', ascending=False)\n",
    "averages_df"
   ]
  },
  {
   "cell_type": "code",
   "execution_count": null,
   "metadata": {},
   "outputs": [],
   "source": [
    "#Connect to local database\n",
    "protocol = 'postgresql'\n",
    "username = 'postgres'\n",
    "password = 5432\n",
    "host = 'localhost'\n",
    "port = 5432\n",
    "database_name = 'jobs'\n",
    "rds_connection_string = f'{protocol}://{username}:{password}@{host}:{port}/{database_name}'\n",
    "engine = create_engine(rds_connection_string)"
   ]
  },
  {
   "cell_type": "code",
   "execution_count": null,
   "metadata": {},
   "outputs": [],
   "source": [
    "# Load each dataframe into the database\n",
    "states_df.to_sql(name='states', con=engine, if_exists='replace', index=False)\n",
    "result_df.to_sql(name='states', con=engine, if_exists='replace', index=False)\n",
    "averages_df.to_sql(name='states', con=engine, if_exists='replace', index=False)"
   ]
  }
 ],
 "metadata": {
  "kernelspec": {
   "display_name": "base",
   "language": "python",
   "name": "python3"
  },
  "language_info": {
   "codemirror_mode": {
    "name": "ipython",
    "version": 3
   },
   "file_extension": ".py",
   "mimetype": "text/x-python",
   "name": "python",
   "nbconvert_exporter": "python",
   "pygments_lexer": "ipython3",
   "version": "3.9.12"
  },
  "orig_nbformat": 4,
  "vscode": {
   "interpreter": {
    "hash": "8c037fba4ff11aa2ad992877a0fc7bc755fd31e456684bf69477f17c5390ea50"
   }
  }
 },
 "nbformat": 4,
 "nbformat_minor": 2
}
